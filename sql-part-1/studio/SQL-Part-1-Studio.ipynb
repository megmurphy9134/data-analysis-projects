{
 "cells": [
  {
   "cell_type": "markdown",
   "metadata": {},
   "source": [
    "# SQL Part 1 Studio\n",
    "\n",
    "Let's practice your SQL querying skills!  For each question, work along in the notebook adding your query and answering the questions.\n",
    "\n",
    "## Dataset\n",
    "\n",
    "We will be using the same Goodreads dataset that was used for the exercises in the prep work. Feel free to reference your exercises notebook as you work on the studio. The Kaggle dataset can be found here: [goodbooks-10k](https://www.kaggle.com/zygmunt/goodbooks-10k).\n",
    "\n",
    "You can access **BooksDB** in the Launchcode server.\n",
    "\n",
    "## Business Issue\n",
    "\n",
    "You work for a small independent book store and you want to increase sales by running a new marketing campaign. Before you can design your campaign, you need to get more familiar with what is going on with the world of book publishing. Time to get more familar with BooksDB!"
   ]
  },
  {
   "cell_type": "markdown",
   "metadata": {},
   "source": [
    "## Part 1: BooksDB Questions\n",
    "\n",
    "Question 1: Write a query of the `books` table that returns the top 100 results and includes `book_id`, `authors`, `title`, and `average_rating`. Use an alias for at least one column and sort the result set in descending order of rating. What is the number one book?"
   ]
  },
  {
   "cell_type": "code",
   "execution_count": null,
   "metadata": {
    "vscode": {
     "languageId": "sql"
    }
   },
   "outputs": [],
   "source": [
    "-- return top 100 results --\n",
    "\n",
    "USE booksdb\n",
    "SELECT TOP 100 book_id, authors, title, average_rating AS book_rating\n",
    "FROM dbo.books\n",
    "order by book_rating DESC;"
   ]
  },
  {
   "cell_type": "markdown",
   "metadata": {},
   "source": [
    "The number one book is The Complete Calvin and Hobbes."
   ]
  },
  {
   "cell_type": "markdown",
   "metadata": {},
   "source": [
    "Question 2: Write a query to find the least popular book."
   ]
  },
  {
   "cell_type": "code",
   "execution_count": null,
   "metadata": {
    "vscode": {
     "languageId": "sql"
    }
   },
   "outputs": [],
   "source": [
    "-- return least popular book\n",
    "\n",
    "USE booksdb\n",
    "SELECT title, average_rating AS book_rating\n",
    "FROM dbo.books\n",
    "order by book_rating ASC;"
   ]
  },
  {
   "cell_type": "markdown",
   "metadata": {},
   "source": [
    "One Night at the Call Center"
   ]
  },
  {
   "cell_type": "markdown",
   "metadata": {},
   "source": [
    "Question 3: Which tag is the most popular?"
   ]
  },
  {
   "cell_type": "code",
   "execution_count": null,
   "metadata": {
    "vscode": {
     "languageId": "sql"
    }
   },
   "outputs": [],
   "source": [
    "-- return most popular tag\n",
    "\n",
    "USE BooksDB\n",
    "SELECT COUNT(tag_id) AS tag_count, tag_id\n",
    "FROM dbo.book_tags\n",
    "GROUP BY tag_id\n",
    "ORDER BY tag_count DESC;\n"
   ]
  },
  {
   "cell_type": "code",
   "execution_count": null,
   "metadata": {
    "vscode": {
     "languageId": "sql"
    }
   },
   "outputs": [],
   "source": [
    "Tag 30574"
   ]
  },
  {
   "cell_type": "markdown",
   "metadata": {},
   "source": [
    "Question 4: What is the name of the most popular tag?"
   ]
  },
  {
   "cell_type": "code",
   "execution_count": null,
   "metadata": {
    "vscode": {
     "languageId": "sql"
    }
   },
   "outputs": [],
   "source": [
    "-- return name of most popular tag\n",
    "\n",
    "USE BooksDB\n",
    "SELECT tag_name\n",
    "FROM dbo.tags\n",
    "WHERE tag_id = 30574;"
   ]
  },
  {
   "cell_type": "markdown",
   "metadata": {},
   "source": [
    "to-read"
   ]
  },
  {
   "cell_type": "markdown",
   "metadata": {},
   "source": [
    "Question 5: How many books where released in the first decade of 2000?"
   ]
  },
  {
   "cell_type": "code",
   "execution_count": null,
   "metadata": {
    "vscode": {
     "languageId": "sql"
    }
   },
   "outputs": [],
   "source": [
    "-- return number of books published in the first decade of 2000\n",
    "\n",
    "USE booksdb\n",
    "SELECT COUNT(original_publication_year)\n",
    "FROM dbo.books\n",
    "WHERE original_publication_year BETWEEN 2000 AND 2009;"
   ]
  },
  {
   "cell_type": "markdown",
   "metadata": {},
   "source": [
    "3121 books between 2000 and 2009."
   ]
  },
  {
   "cell_type": "markdown",
   "metadata": {},
   "source": [
    "Question 6: How many book titles contain the word, \"happy\"?"
   ]
  },
  {
   "cell_type": "code",
   "execution_count": null,
   "metadata": {
    "vscode": {
     "languageId": "sql"
    }
   },
   "outputs": [],
   "source": [
    "-- return number of books that contain the word, \"happy\"\n",
    "\n",
    "USE booksdb\n",
    "SELECT COUNT(title)\n",
    "FROM dbo.books\n",
    "WHERE title LIKE '%happy%';\n"
   ]
  },
  {
   "cell_type": "markdown",
   "metadata": {},
   "source": [
    "13 book titles"
   ]
  },
  {
   "cell_type": "markdown",
   "metadata": {},
   "source": [
    "Question 7: List the books from the top 3 authors from Question 1.  If there is more than one author just use the first one. Sort the title alphabetically by `author` and then by `average_rating`, best rated to lowest. Does this order matter in sorting?"
   ]
  },
  {
   "cell_type": "code",
   "execution_count": null,
   "metadata": {
    "vscode": {
     "languageId": "sql"
    }
   },
   "outputs": [],
   "source": [
    "-- return all books from the top 3 authors, sort by author and rating\n",
    "\n",
    "USE booksdb\n",
    "SELECT TOP 3 authors, title, average_rating\n",
    "FROM dbo.books\n",
    "ORDER BY average_rating DESC;\n",
    "\n",
    "USE BooksDB\n",
    "SELECT title, authors\n",
    "FROM dbo.books\n",
    "WHERE authors = 'Bill Watterson' OR authors = 'Brandon Sanderson' OR authors = 'J.k. Rowling';"
   ]
  },
  {
   "cell_type": "markdown",
   "metadata": {},
   "source": [
    "Order matters in sorting. The top book by the top 3 authors are The Complete Calvin and Hobbes, Words of Radiance, and Harry Potter Boxes Set."
   ]
  },
  {
   "cell_type": "markdown",
   "metadata": {},
   "source": [
    "Question 8: Write a query that returns the number of authors whose first name is between rock and roll."
   ]
  },
  {
   "cell_type": "code",
   "execution_count": null,
   "metadata": {
    "vscode": {
     "languageId": "sql"
    }
   },
   "outputs": [],
   "source": [
    "-- return number of authors whose first name is between rock and roll\n",
    "USE BooksDB\n",
    "SELECT COUNT(authors)\n",
    "FROM dbo.books\n",
    "WHERE authors < 'roll' and authors >= 'rock';"
   ]
  },
  {
   "cell_type": "markdown",
   "metadata": {},
   "source": [
    "25 authors"
   ]
  },
  {
   "cell_type": "markdown",
   "metadata": {},
   "source": [
    "## Part 2: Find the Answers to Your Own Questions\n",
    "\n",
    "Your Question:  Click here to add a questions that you want to answer and write a query to find the answer!"
   ]
  },
  {
   "cell_type": "code",
   "execution_count": null,
   "metadata": {
    "vscode": {
     "languageId": "sql"
    }
   },
   "outputs": [],
   "source": [
    "-- How many books were published in 2005?\n",
    "USE BooksDB\n",
    "SELECT COUNT(title)\n",
    "FROM dbo.books\n",
    "WHERE original_publication_year = 2005;\n",
    "\n",
    "-- 326 books"
   ]
  },
  {
   "cell_type": "markdown",
   "metadata": {},
   "source": [
    "Your Question:  Click here to add a questions that you want to answer and write a query to find the answer!"
   ]
  },
  {
   "cell_type": "code",
   "execution_count": null,
   "metadata": {
    "vscode": {
     "languageId": "sql"
    }
   },
   "outputs": [],
   "source": [
    "-- What are the books written by the top author, listed in popular order\n",
    "\n",
    "USE BooksDB\n",
    "SELECT title, authors, average_rating\n",
    "FROM dbo.books\n",
    "WHERE authors = 'J.K. Rowling'\n",
    "ORDER BY authors, average_rating DESC;"
   ]
  },
  {
   "cell_type": "markdown",
   "metadata": {},
   "source": [
    "If you cannot think of a question you want to ask, here are some question examples to help jumpstart your brainstorming process:\n",
    "\n",
    "1. What book has the longest title?\n",
    "1. Which author has written the most books?\n",
    "1. What were the top ten books published the year I was born?"
   ]
  }
 ],
 "metadata": {
  "language_info": {
   "name": "python"
  }
 },
 "nbformat": 4,
 "nbformat_minor": 2
}
