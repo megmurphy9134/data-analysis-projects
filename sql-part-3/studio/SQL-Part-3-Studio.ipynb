{
 "cells": [
  {
   "cell_type": "markdown",
   "metadata": {},
   "source": [
    "# SQL Part 3 Studio\n",
    "\n",
    "Let's practice your SQL querying skills! For each question, work along in the notebook, adding your query and answering the questions.\n",
    "\n",
    "## The Dataset\n",
    "\n",
    "We will be using the Goodbooks-10k dataset from the exercises in the prep work. Feel free reference your previous notebooks.\n",
    "\n",
    "1. The dataset can be found here: [goodbooks-10k](https://www.kaggle.com/zygmunt/goodbooks-10k)\n",
    "1. You can access `BooksDB` in the LaunchCode server.\n",
    "\n",
    "## Business Issue\n",
    "\n",
    "You are an employee at a small independent bookstore and you have been tasked with increasing sales.  You decide to use `BooksDB` to find books and themes to highlight in fun promotions throughout each month and/or season.  We will be starting with March and then you will have a chance to explore another month of your choosing.  We want to come up with a list of promotions to run each month.  If you are looking for ideas, here are some resources on different holidays:\n",
    "\n",
    "- [https://www.calendarr.com/united-states/calendar-2022/](https://www.calendarr.com/united-states/calendar-2022/)\n",
    "- [https://www.holidayinsights.com/moreholidays/](https://www.holidayinsights.com/moreholidays/)\n",
    "    - Click on a month and it will take you to a more detailed page"
   ]
  },
  {
   "cell_type": "markdown",
   "metadata": {},
   "source": [
    "## Part 1:  March - Women's History Month, National Pie Day (3/14), St. Patrick's Day (3/17), Season - Spring"
   ]
  },
  {
   "cell_type": "markdown",
   "metadata": {},
   "source": [
    "### Event 1: Women's History Month\n",
    "\n",
    "Highlight popular women writers based on ratings from `BooksDB` by writing a query that returns `tag_id`, the number of times each `tag_id` is used and the `tag_name`. Use the `GROUP BY` and `HAVING` clause to narrow your focus and try multiple keywords, such as \"woman\" and \"female\"."
   ]
  },
  {
   "cell_type": "code",
   "execution_count": null,
   "metadata": {
    "vscode": {
     "languageId": "sql"
    }
   },
   "outputs": [],
   "source": [
    "-- Solution\n",
    "USE BooksDB\n",
    "SELECT\n",
    "SUM([count]) AS sum_of_all_usages,\n",
    "bt.tag_id,\n",
    "t.tag_name,\n",
    "b.authors,\n",
    "b.average_rating\n",
    "FROM book_tags bt\n",
    "INNER JOIN tags t ON t.tag_id = bt.tag_id\n",
    "INNER JOIN books b ON b.book_id = bt.goodreads_book_id\n",
    "GROUP BY bt.tag_id, t.tag_name, b.authors, b.average_rating\n",
    "HAVING t.tag_name IN ('author-female', 'woman-author','female-writer', \n",
    "'female-writers', 'important-female-authors', 'female-author', 'female-authors',\n",
    "'woman-trans-agender-authors')\n",
    "ORDER BY average_rating DESC, sum_of_all_usages DESC;"
   ]
  },
  {
   "cell_type": "markdown",
   "metadata": {},
   "source": [
    "### Event 2: Choose another event from March/Spring\n",
    "\n",
    "Write a query to return authors, titles, ratings, and `tag_id` that you would want to promote during your chosen event."
   ]
  },
  {
   "cell_type": "code",
   "execution_count": null,
   "metadata": {
    "vscode": {
     "languageId": "sql"
    }
   },
   "outputs": [],
   "source": [
    "-- Solution\n",
    "USE BooksDB\n",
    "SELECT\n",
    "SUM([count]) AS sum_of_all_usages,\n",
    "bt.tag_id,\n",
    "t.tag_name,\n",
    "b.authors,\n",
    "b.average_rating\n",
    "FROM book_tags bt\n",
    "INNER JOIN tags t ON t.tag_id = bt.tag_id\n",
    "INNER JOIN books b ON b.book_id = bt.goodreads_book_id\n",
    "GROUP BY bt.tag_id, t.tag_name, b.authors, b.average_rating\n",
    "HAVING t.tag_name IN ('spring', 'easter')\n",
    "ORDER BY average_rating DESC, sum_of_all_usages DESC;\n",
    "\n",
    "--We used the previous question as a template for this one"
   ]
  },
  {
   "cell_type": "markdown",
   "metadata": {},
   "source": [
    "Record your thoughts about why you wrote the query the way you did."
   ]
  },
  {
   "cell_type": "markdown",
   "metadata": {},
   "source": [
    "# Part 2: Choose Another Month\n",
    "\n",
    "Choose another month and plan at least 2 events / promotions and answer the following questions:\n",
    "1. Which month did you choose?\n",
    "1. What 2 events / promotions are you highlighting?"
   ]
  },
  {
   "cell_type": "markdown",
   "metadata": {},
   "source": [
    "# Part 3: Summarize your Work\n",
    "\n",
    "For each event write at least one query that joins any two tables in `BooksDB` to support your choice and record you thoughts as to why you used the paticlular query. At least one of your queries needs to include a `HAVING` clause."
   ]
  },
  {
   "cell_type": "code",
   "execution_count": null,
   "metadata": {
    "vscode": {
     "languageId": "sql"
    }
   },
   "outputs": [],
   "source": [
    "-- Event 1 Query\n",
    "-- We chose October, and our events were Halloween and Indigenous People's Month\n",
    "USE BooksDB\n",
    "SELECT TOP 20\n",
    "SUM([count]) AS number_of_times_tag_id_used,\n",
    "bt.tag_id,\n",
    "t.tag_name,\n",
    "b.authors,\n",
    "b.average_rating,\n",
    "b.title\n",
    "FROM book_tags AS bt\n",
    "\n",
    "INNER JOIN tags t ON t.tag_id = bt.tag_id\n",
    "INNER JOIN books b ON b.book_id = bt.goodreads_book_id\n",
    "\n",
    "GROUP BY bt.tag_id, t.tag_name, b.authors, b.average_rating, b.title\n",
    "HAVING t.tag_name IN ('halloween', 'indigenous', 'native american')\n",
    "ORDER BY number_of_times_tag_id_used DESC"
   ]
  },
  {
   "cell_type": "markdown",
   "metadata": {},
   "source": [
    "### Summarize Events\n",
    "\n",
    "Double-click to edit."
   ]
  },
  {
   "cell_type": "code",
   "execution_count": null,
   "metadata": {
    "vscode": {
     "languageId": "sql"
    }
   },
   "outputs": [],
   "source": [
    "-- Event 2 Query\n",
    "-- We used one query for both events, though it could just as easily be broken into 2 and only use relevant tags for each event\n",
    "-- Our group found this query to be the best option for our needs\n",
    "-- For Halloween, there's quite a selection of books. Many are highly rated, and there's even children's options to highlight\n",
    "-- For Indigenous People's Month, there are far fewer options to display. I would consider related tags to include for this display "
   ]
  }
 ],
 "metadata": {
  "language_info": {
   "name": "python"
  }
 },
 "nbformat": 4,
 "nbformat_minor": 2
}
